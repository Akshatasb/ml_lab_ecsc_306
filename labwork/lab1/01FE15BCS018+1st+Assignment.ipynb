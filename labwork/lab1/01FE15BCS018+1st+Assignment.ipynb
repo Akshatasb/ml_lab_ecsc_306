{
 "cells": [
  {
   "cell_type": "code",
   "execution_count": 1,
   "metadata": {},
   "outputs": [
    {
     "name": "stdout",
     "output_type": "stream",
     "text": [
      "25\n"
     ]
    }
   ],
   "source": [
    "import tensorflow as tf\n",
    "a=tf.constant(2)\n",
    "b=tf.constant(3)\n",
    "with tf.name_scope(\"MyOperationGroup\"):\n",
    "        with tf.name_scope(\"Scope_A\"):\n",
    "            c=tf.multiply(a,a,name=\"4\")\n",
    "            d=tf.multiply(b,b,name=\"9\")\n",
    "with tf.name_scope(\"Scope_B\"):\n",
    "    e=tf.add(c,d,name=\"13_Added\")\n",
    "    f=tf.multiply(a,b,name=\"6_multiplied\")\n",
    "with tf.name_scope(\"Scope_C\"):\n",
    "    g=tf.multiply(2,f,name=\"12_Multiplied\")\n",
    "i=tf.add(e,g,name=\"25\")\n",
    "\n",
    "with tf.Session() as sess:\n",
    "    writer = tf.summary.FileWriter(\"/tmp/tboard/output5\",sess.graph)\n",
    "    print(sess.run(i))\n",
    "    writer.close()"
   ]
  },
  {
   "cell_type": "code",
   "execution_count": 1,
   "metadata": {},
   "outputs": [
    {
     "name": "stdout",
     "output_type": "stream",
     "text": [
      "100\n"
     ]
    }
   ],
   "source": [
    "import tensorflow as tf\n",
    "a=tf.constant(1)\n",
    "b=tf.constant(3)\n",
    "c=tf.constant(6)\n",
    "with tf.name_scope(\"MyOperationGroup\"):\n",
    "        with tf.name_scope(\"Scope_A\"):\n",
    "            d=tf.multiply(a,a,name=\"1_square\")\n",
    "            e=tf.multiply(b,b,name=\"9_square\")\n",
    "            f=tf.multiply(c,c,name=\"36_square\")\n",
    "with tf.name_scope(\"Scope_B\"):\n",
    "    g=tf.add(d,e,name=\"10_Add\")\n",
    "    h=tf.add(f,g,name=\"46_Add\")\n",
    "    i=tf.multiply(a,b,name=\"3_Multiplied\")\n",
    "    j=tf.multiply(2,i,name=\"6_Multiplied\")\n",
    "    k=tf.multiply(b,c,name=\"18_Multiplied\")\n",
    "    l=tf.multiply(2,k,name=\"36_Multiplied\")\n",
    "    m=tf.multiply(c,a,name=\"6_Multiplied\")\n",
    "    n=tf.multiply(2,m,name=\"12_Multiplied\")  \n",
    "with tf.name_scope(\"Scope_C\"):\n",
    "    o=tf.add(j,l,name=\"42_Added\")   \n",
    "    p=tf.add(n,o,name=\"54_Added\")    \n",
    "q=tf.add(h,p,name=\"100_answer\")\n",
    " \n",
    "with tf.Session() as sess:\n",
    "    writer = tf.summary.FileWriter(\"/tmp/tboard/output6\",sess.graph)\n",
    "    print(sess.run(q))\n",
    "    writer.close()"
   ]
  },
  {
   "cell_type": "code",
   "execution_count": null,
   "metadata": {
    "collapsed": true
   },
   "outputs": [],
   "source": []
  }
 ],
 "metadata": {
  "kernelspec": {
   "display_name": "Python 3",
   "language": "python",
   "name": "python3"
  },
  "language_info": {
   "codemirror_mode": {
    "name": "ipython",
    "version": 3
   },
   "file_extension": ".py",
   "mimetype": "text/x-python",
   "name": "python",
   "nbconvert_exporter": "python",
   "pygments_lexer": "ipython3",
   "version": "3.6.2"
  }
 },
 "nbformat": 4,
 "nbformat_minor": 2
}
