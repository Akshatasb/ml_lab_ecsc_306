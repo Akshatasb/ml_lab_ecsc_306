{
 "cells": [
  {
   "cell_type": "code",
   "execution_count": 24,
   "metadata": {},
   "outputs": [
    {
     "name": "stdout",
     "output_type": "stream",
     "text": [
      "[ 10.10000038  20.89999962  30.70000076  40.5         50.70000076\n",
      "  60.40000153  70.19999695  80.90000153]\n",
      "[ 11.98999977  22.          33.70000076  44.          54.5         66.69999695\n",
      "  79.08999634  84.66999817]\n"
     ]
    }
   ],
   "source": [
    "import tensorflow as tf\n",
    "a=tf.constant([10.1,20.9,30.7,40.5,50.7,60.4,70.2,80.9])\n",
    "b=tf.constant([11.99,22,33.7,44,54.5,66.7,79.09,84.67])\n",
    "m=tf.global_variables_initializer()\n",
    "with tf.Session() as s:\n",
    "    s.run(m)\n",
    "    print(s.run(a))\n",
    "with tf.Session() as s:\n",
    "    s.run(m)\n",
    "    print(s.run(b))"
   ]
  },
  {
   "cell_type": "code",
   "execution_count": 25,
   "metadata": {},
   "outputs": [
    {
     "name": "stdout",
     "output_type": "stream",
     "text": [
      "45.55\n",
      "49.5812\n"
     ]
    }
   ],
   "source": [
    "## mean x,y\n",
    "with tf.name_scope(\"mean\"):\n",
    "import tensorflow as tf\n",
    "a=tf.constant([10.1,20.9,30.7,40.5,50.7,60.4,70.2,80.9])\n",
    "b=tf.constant([11.99,22,33.7,44,54.5,66.7,79.09,84.67])\n",
    "mean_of_a=tf.reduce_mean(a)\n",
    "sess=tf.Session()\n",
    "print(sess.run(mean_of_a))\n",
    "mean_of_b=tf.reduce_mean(b)\n",
    "sess=tf.Session()\n",
    "print(sess.run(mean_of_b))\n",
    "\n"
   ]
  },
  {
   "cell_type": "code",
   "execution_count": 26,
   "metadata": {},
   "outputs": [
    {
     "name": "stdout",
     "output_type": "stream",
     "text": [
      "[-35.45000458 -24.65000343 -14.85000229  -5.05000305   5.14999771\n",
      "  14.84999847  24.6499939   35.34999847]\n",
      "[ 1256.70288086   607.62268066   220.52256775    25.50253105    26.5224762\n",
      "   220.52246094   607.62219238  1249.62243652]\n",
      "526.83\n"
     ]
    }
   ],
   "source": [
    "## variance of a\n",
    "with tf.name_scope(\"variance\"):\n",
    "import tensorflow as tf\n",
    "a=tf.constant([10.1,20.9,30.7,40.5,50.7,60.4,70.2,80.9])\n",
    "c=tf.subtract(a,mean_of_a)\n",
    "ses=tf.Session()\n",
    "print(ses.run(c))\n",
    "d=tf.square(c)\n",
    "print(ses.run(d))\n",
    "variance_of_a=tf.reduce_mean(d)\n",
    "print(ses.run(variance_of_a))"
   ]
  },
  {
   "cell_type": "code",
   "execution_count": 27,
   "metadata": {},
   "outputs": [
    {
     "name": "stdout",
     "output_type": "stream",
     "text": [
      "[-37.59124756 -27.58124924 -15.88124847  -5.58124924   4.91875076\n",
      "  17.11874771  29.5087471   35.08874893]\n",
      "[ 1332.60986328   679.87786865   235.83657837    28.18532562    25.33155441\n",
      "   254.21337891   727.39044189  1240.38720703]\n",
      "565.479\n"
     ]
    }
   ],
   "source": [
    "with tf.name_scope(\"co-variance\"):\n",
    "import tensorflow as tf\n",
    "a=tf.constant([10.1,20.9,30.7,40.5,50.7,60.4,70.2,80.9])\n",
    "b=tf.constant([11.99,22,33.7,44,54.5,66.7,79.09,84.67])\n",
    "e=tf.subtract(b,mean_of_b)\n",
    "se=tf.Session()\n",
    "print(se.run(e))\n",
    "f=tf.multiply(c,e)\n",
    "print(se.run(f))\n",
    "covariance=tf.reduce_mean(f)\n",
    "print(se.run(covariance))"
   ]
  },
  {
   "cell_type": "code",
   "execution_count": 28,
   "metadata": {},
   "outputs": [
    {
     "name": "stdout",
     "output_type": "stream",
     "text": [
      "1.07336\n"
     ]
    }
   ],
   "source": [
    "import tensorflow as tf\n",
    "g=tf.divide(covariance,variance_of_a)\n",
    "sessi=tf.Session()\n",
    "print(sessi.run(g))"
   ]
  },
  {
   "cell_type": "code",
   "execution_count": 29,
   "metadata": {},
   "outputs": [
    {
     "name": "stdout",
     "output_type": "stream",
     "text": [
      "48.8916\n",
      "0.689636\n"
     ]
    }
   ],
   "source": [
    "import tensorflow as tf\n",
    "h=tf.multiply(g,mean_of_a)\n",
    "sessio=tf.Session()\n",
    "print(sessio.run(h))\n",
    "i=tf.subtract(mean_of_b,h)\n",
    "print(sessio.run(i))"
   ]
  },
  {
   "cell_type": "code",
   "execution_count": null,
   "metadata": {
    "collapsed": true
   },
   "outputs": [],
   "source": []
  }
 ],
 "metadata": {
  "kernelspec": {
   "display_name": "Python 3",
   "language": "python",
   "name": "python3"
  },
  "language_info": {
   "codemirror_mode": {
    "name": "ipython",
    "version": 3
   },
   "file_extension": ".py",
   "mimetype": "text/x-python",
   "name": "python",
   "nbconvert_exporter": "python",
   "pygments_lexer": "ipython3",
   "version": "3.6.1"
  }
 },
 "nbformat": 4,
 "nbformat_minor": 2
}
